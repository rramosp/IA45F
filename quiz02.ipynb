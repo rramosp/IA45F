{
 "cells": [
  {
   "cell_type": "markdown",
   "metadata": {
    "collapsed": true
   },
   "source": [
    "## Quiz 02 - Filtros y muestreo\n",
    "\n",
    "## EJECUTA ESTA CELDA PARA AUTENTICARTE CON TU CUENTA DE GMAIL"
   ]
  },
  {
   "cell_type": "code",
   "execution_count": null,
   "metadata": {
    "collapsed": false
   },
   "outputs": [],
   "source": [
    "from mooclib import *\n",
    "import inspect, urllib\n",
    "html, auth_code, userinfo = google_authenticate(PORT_NUMBER=8080)\n",
    "html"
   ]
  },
  {
   "cell_type": "markdown",
   "metadata": {
    "collapsed": false
   },
   "source": [
    "## <font style=\"color: red\"> Este quiz tiene cuatro ejercicios<!-- ONLY IN NOTEBOOK -->"
   ]
  },
  {
   "cell_type": "markdown",
   "metadata": {
    "collapsed": false
   },
   "source": [
    "## Ejercicio 1: Muestreo mezclado\n",
    "\n",
    "Completa la siguiente función para que devuelva un número $n$ de muestras de forma que\n",
    "\n",
    "- El 40% de las muestras provenga de una distribución $\\sim \\mathcal{N}(4,1.5)$ (media=4, desv std=1.5)\n",
    "- El 60% de las muestras provenga de una distribución $\\sim \\mathcal{N}(8,1)$\n",
    "\n",
    "**OBSERVA QUE**:\n",
    "\n",
    "- las $n$ muestras han de estar mezcladas (es decir, no es válida cualquier solución en la que todas las muestras de una misma normal están juntas)\n",
    "- puedes usar las funciones [`np.random.normal`](https://docs.scipy.org/doc/numpy/reference/generated/numpy.random.normal.html) y [`np.random.permutation`](https://docs.scipy.org/doc/numpy/reference/generated/numpy.random.permutation.html) \n",
    "- asegúrate de usar un `int` para el argumento `size` de `np.random.normal`. la instrucción `int(k)` convierte `k` a un entero.\n",
    "- el histograma de las muestras generadas ha de ser similar a este.\n",
    "\n",
    "    <img src=\"imgs/mixedsampling.png?\"/>"
   ]
  },
  {
   "cell_type": "code",
   "execution_count": null,
   "metadata": {
    "collapsed": false
   },
   "outputs": [],
   "source": [
    "def mixed_sampling(n):\n",
    "    import numpy as np\n",
    "    \n",
    "    muestras = ...\n",
    "    \n",
    "    return muestras\n",
    "\n",
    "import urllib, inspect\n",
    "src1 = urllib.quote_plus(inspect.getsource(mixed_sampling))"
   ]
  },
  {
   "cell_type": "markdown",
   "metadata": {},
   "source": [
    "verifica si la población muestreada es como deseado"
   ]
  },
  {
   "cell_type": "code",
   "execution_count": null,
   "metadata": {
    "collapsed": false
   },
   "outputs": [],
   "source": [
    "import numpy as np\n",
    "import matplotlib.pyplot as plt\n",
    "%matplotlib inline\n",
    "x = mixed_sampling(10000)\n",
    "plt.hist(x, bins=30);"
   ]
  },
  {
   "cell_type": "markdown",
   "metadata": {},
   "source": [
    "#### check your answer before submitting:"
   ]
  },
  {
   "cell_type": "code",
   "execution_count": null,
   "metadata": {
    "collapsed": false
   },
   "outputs": [],
   "source": [
    "!./run CHECK_SOLUTION QZ2_1 $src1"
   ]
  },
  {
   "cell_type": "markdown",
   "metadata": {},
   "source": [
    "#### submit your answer (you must be connected to internet)"
   ]
  },
  {
   "cell_type": "code",
   "execution_count": null,
   "metadata": {
    "collapsed": false
   },
   "outputs": [],
   "source": [
    "!./run SUBMIT_SOLUTION QZ2_1 $src1"
   ]
  },
  {
   "cell_type": "markdown",
   "metadata": {},
   "source": [
    "## Ejercicio 2: Reducción de ruido\n",
    "\n",
    "Completa la siguiente función para que, dada una señal $S=\\{s_0, s_1,..., s_{n-1}\\}$, un ancho de ventana `w` y un valor $\\sigma_r$ produzca una nueva señal $R$ obtenida por un procedimiento de reducción de ruido sobre $S$  aplicado a cada punto $s_i \\in S$ de la siguiente manera:\n",
    "\n",
    "1. se extrae la porción de la señal que incluye `w` puntos anteriores y `w-1` puntos posteriores: $\\{s_{i-w},..,s_i,...,s_{i+w-1}\\}$ de forma que la longitud de la porción sea $2w$. En Python, esa porción se denota por `S[i-w:i+w]`\n",
    "2. se obtiene $\\mu_i$, la media de la porción extraída\n",
    "3. el elemento correspondiente a $s_i$ viene dado por $\\mu_i+k$, donde $k$ es muestreado de una distribución uniforme entre -0.1 y 0.1, ambos incluidos.\n",
    "\n",
    "**OBSERVA QUE**\n",
    "\n",
    "- si $S$ tiene $n$ elementos, la señal resultante tendrá $n-2w$ elementos.\n",
    "- el elemento $i$ de la señal $S$ corresponderá al elemento $i-w$ de la señal resultante\n",
    "- puedes usar `np.random.uniform` para muestrear números aleatorios de manera uniforme en el intervalo requerido\n",
    "- si tenemos la siguiente señal de entrada (en rojo en la izquierda), la señal resultante ha de ser como la señal en negro de la derecha (señal original de mil puntos con una sinusoide y ruido gausiano con desviación estándar 0.5)\n",
    "\n",
    "<img src=\"imgs/noise.png?\"/>"
   ]
  },
  {
   "cell_type": "code",
   "execution_count": null,
   "metadata": {
    "collapsed": true
   },
   "outputs": [],
   "source": [
    "def smooth(S,w):\n",
    "    import numpy as np\n",
    "    r = np.zeros(len(S)-2*w)\n",
    "    \n",
    "    for i in range(w, len(S)-w):\n",
    "        ...\n",
    "        \n",
    "    return r\n",
    "\n",
    "import urllib, inspect\n",
    "src2 = urllib.quote_plus(inspect.getsource(smooth))"
   ]
  },
  {
   "cell_type": "markdown",
   "metadata": {},
   "source": [
    "Comprueba visualmente tu implementación con el siguiente código, que debe de producir unos gráficos parecidos a los anteriores"
   ]
  },
  {
   "cell_type": "code",
   "execution_count": null,
   "metadata": {
    "collapsed": false
   },
   "outputs": [],
   "source": [
    "import numpy as np\n",
    "fig = plt.figure(figsize=(15,3))\n",
    "ws=20\n",
    "x = np.linspace(0,3*np.pi,1000)\n",
    "s = np.sin(x) + np.random.normal(scale=0.3,size=len(x))\n",
    "\n",
    "ss = smooth(s, ws)\n",
    "print \"longitud de la señal original  \", len(s)\n",
    "print \"longitud de la señal resultante\", len(ss)\n",
    "\n",
    "fig.add_subplot(121)\n",
    "plt.scatter(range(len(s)),s, s=1, color=\"red\", alpha=.5)\n",
    "plt.xlim([0, len(s)])\n",
    "plt.ylim([-2,2])\n",
    "\n",
    "fig.add_subplot(122)\n",
    "plt.scatter(range(len(ss)),ss, s=1, color=\"black\", alpha=1)\n",
    "plt.xlim([0, len(ss)])\n",
    "plt.ylim([-2,2]);"
   ]
  },
  {
   "cell_type": "markdown",
   "metadata": {},
   "source": [
    "#### check your answer before submitting:"
   ]
  },
  {
   "cell_type": "code",
   "execution_count": null,
   "metadata": {
    "collapsed": false
   },
   "outputs": [],
   "source": [
    "!./run CHECK_SOLUTION QZ2_2 $src2"
   ]
  },
  {
   "cell_type": "markdown",
   "metadata": {},
   "source": [
    "#### submit your answer (you must be connected to internet)"
   ]
  },
  {
   "cell_type": "code",
   "execution_count": null,
   "metadata": {
    "collapsed": false
   },
   "outputs": [],
   "source": [
    "!./run SUBMIT_SOLUTION QZ2_2 $src2"
   ]
  },
  {
   "cell_type": "markdown",
   "metadata": {},
   "source": [
    "## Ejercicio 3: Modelos de Kalman\n",
    "\n",
    "Completa la siguiente función para que aplique una matriz representando un modelo físico `F` a un estado inicial `s` un número `nt` de pasos de tiempo, de forma que:\n",
    "\n",
    "- $s \\in \\mathbb{R}^{n \\times 1}$ es el vector de estado inicial, con $n$ variables\n",
    "- $F \\in \\mathbb{R}^{n\\times n}$ es la matriz representando el modelo físico lineal de evolución del estado en el tiempo\n",
    "- dado un estado $s_t$, el estado en el instante de tiempo siguiente es $s_{t+1} = F \\times s_t$\n",
    "\n",
    "Por ejemplo, con el siguiente estado inicial y modelo físico:\n",
    "\n",
    "    s = [[2,1.5]].T\n",
    "    F = [[1,1],[0,1]]\n",
    "    \n",
    "al cabo de 5 unidades de tiempo, el estado sería `[[9.5,1.5]].T` que correspondería a un movimiento con velocidad constante a 1.5 m/s durante 5 segundos desde una posición inicial de 2m."
   ]
  },
  {
   "cell_type": "code",
   "execution_count": null,
   "metadata": {
    "collapsed": true
   },
   "outputs": [],
   "source": [
    "def apply_model(s,F,nt):\n",
    "    \n",
    "    r = s\n",
    "    for i in range(nt):\n",
    "        r = ...\n",
    "        \n",
    "    return r\n",
    "import urllib, inspect\n",
    "src3 = urllib.quote_plus(inspect.getsource(apply_model))"
   ]
  },
  {
   "cell_type": "markdown",
   "metadata": {},
   "source": [
    "comprueba tu código manualmente si deseas"
   ]
  },
  {
   "cell_type": "code",
   "execution_count": null,
   "metadata": {
    "collapsed": false
   },
   "outputs": [],
   "source": [
    "import numpy as np\n",
    "s = np.array([[2,1.5]]).T\n",
    "F = np.array([[1,1],[0,1]])\n",
    "print apply_model(s,F,5)\n"
   ]
  },
  {
   "cell_type": "markdown",
   "metadata": {},
   "source": [
    "#### check your answer before submitting:"
   ]
  },
  {
   "cell_type": "code",
   "execution_count": null,
   "metadata": {
    "collapsed": false
   },
   "outputs": [],
   "source": [
    "!./run CHECK_SOLUTION QZ2_3 $src3"
   ]
  },
  {
   "cell_type": "markdown",
   "metadata": {},
   "source": [
    "#### submit your answer (you must be connected to internet)"
   ]
  },
  {
   "cell_type": "code",
   "execution_count": null,
   "metadata": {
    "collapsed": false
   },
   "outputs": [],
   "source": [
    "!./run SUBMIT_SOLUTION QZ2_3 $src3"
   ]
  },
  {
   "cell_type": "markdown",
   "metadata": {},
   "source": [
    "## Ejercicio 4: Poblaciones de partículas\n",
    "\n",
    "Completa la siguiente función para que calcule la probabilidad conjunta de la población de partículas que se le pasa en el argumento, donde:\n",
    "\n",
    "- `particles` $\\in [0,1]^{n \\times 2}$ es un conjunto de posiciones en 2D de n partículas, en el cuadrado unitario con esquina inferior izquierda en el origen.\n",
    "- `prob_function` es una función $\\mathbb{R}^2 \\rightarrow [0,1]$ que toma dos argumentos (las coordenadas x,y de una partícula) y devuelve la probabilidad de encontrar dicha partícula en su posición.\n",
    "\n",
    "si $P(x_i, y_i)$ es la probabilidad de encontrar a la partícula $i$ en la posición $x_i, y_i$,la probabilidad conjunta de una población de partículas viene dada por:\n",
    "\n",
    "$$\\prod_i P(x_i,y_i)$$\n",
    "\n",
    "El código de comprobación más abajo usa 10 partículas y una función de probabilidad que le asigna una probabilidad de 0.7 a las partículas en el cuadrante superior derecho del cuadrado unitario y 0.3 al resto. El logaritmo de la probabilidad obtenida con tu implementación ha de ser de -7.803"
   ]
  },
  {
   "cell_type": "code",
   "execution_count": null,
   "metadata": {
    "collapsed": true
   },
   "outputs": [],
   "source": [
    "def particles_probability(particles, prob_function):\n",
    "\n",
    "    import numpy as np\n",
    "\n",
    "    jointprob = ....\n",
    "    \n",
    "    return jointprob\n",
    "\n",
    "import urllib, inspect\n",
    "src4 = urllib.quote_plus(inspect.getsource(particles_probability))"
   ]
  },
  {
   "cell_type": "code",
   "execution_count": null,
   "metadata": {
    "collapsed": false
   },
   "outputs": [],
   "source": [
    "def prob(x,y):\n",
    "    return 0.3 if (x>0.5) & (y>0.5) else 0.7\n",
    "\n",
    "p = np.array([[ 0.19653586,  0.37613156],\n",
    "              [ 0.78857523,  0.72488248],\n",
    "              [ 0.58899835,  0.96309302],\n",
    "              [ 0.60266224,  0.12568952],\n",
    "              [ 0.83317165,  0.70520845],\n",
    "              [ 0.94478799,  0.47202372],\n",
    "              [ 0.58800916,  0.71412688],\n",
    "              [ 0.59208793,  0.91799626],\n",
    "              [ 0.26536104,  0.24942308],\n",
    "              [ 0.51202147,  0.28806162]])\n",
    "\n",
    "print np.log(particles_probability(p, prob))"
   ]
  },
  {
   "cell_type": "markdown",
   "metadata": {},
   "source": [
    "#### check your answer before submitting:"
   ]
  },
  {
   "cell_type": "code",
   "execution_count": null,
   "metadata": {
    "collapsed": false
   },
   "outputs": [],
   "source": [
    "!./run CHECK_SOLUTION QZ2_4 $src4"
   ]
  },
  {
   "cell_type": "markdown",
   "metadata": {},
   "source": [
    "#### submit your answer (you must be connected to internet)\n"
   ]
  },
  {
   "cell_type": "code",
   "execution_count": null,
   "metadata": {
    "collapsed": false
   },
   "outputs": [],
   "source": [
    "!./run SUBMIT_SOLUTION QZ2_4 $src4"
   ]
  },
  {
   "cell_type": "code",
   "execution_count": null,
   "metadata": {
    "collapsed": true
   },
   "outputs": [],
   "source": []
  }
 ],
 "metadata": {
  "kernelspec": {
   "display_name": "Python 2",
   "language": "python",
   "name": "python2"
  },
  "language_info": {
   "codemirror_mode": {
    "name": "ipython",
    "version": 2
   },
   "file_extension": ".py",
   "mimetype": "text/x-python",
   "name": "python",
   "nbconvert_exporter": "python",
   "pygments_lexer": "ipython2",
   "version": "2.7.11"
  },
  "toc": {
   "toc_cell": false,
   "toc_number_sections": false,
   "toc_threshold": 6,
   "toc_window_display": false
  },
  "widgets": {
   "state": {},
   "version": "1.1.2"
  }
 },
 "nbformat": 4,
 "nbformat_minor": 0
}
